{
  "nbformat": 4,
  "nbformat_minor": 0,
  "metadata": {
    "colab": {
      "name": "contestcoci16c1p1.ipynb",
      "provenance": [],
      "authorship_tag": "ABX9TyN/ky7gr3Y9YV+ekcFyP6sS",
      "include_colab_link": true
    },
    "kernelspec": {
      "name": "python3",
      "display_name": "Python 3"
    },
    "language_info": {
      "name": "python"
    }
  },
  "cells": [
    {
      "cell_type": "markdown",
      "metadata": {
        "id": "view-in-github",
        "colab_type": "text"
      },
      "source": [
        "<a href=\"https://colab.research.google.com/github/aicha001/introduction-to-business-programming/blob/main/contestcoci16c1p1.ipynb\" target=\"_parent\"><img src=\"https://colab.research.google.com/assets/colab-badge.svg\" alt=\"Open In Colab\"/></a>"
      ]
    },
    {
      "cell_type": "code",
      "execution_count": 13,
      "metadata": {
        "colab": {
          "base_uri": "https://localhost:8080/"
        },
        "id": "C4XabGWaB-2j",
        "outputId": "871f62ef-108e-42b6-87df-c3aaa9b2051f"
      },
      "outputs": [
        {
          "output_type": "stream",
          "name": "stdout",
          "text": [
            "enter the monthly megabyte used: 44\n",
            "please enter the number of month: 2\n",
            "please enter amount of MB used:  54\n",
            "the total amount of MB available:  78\n",
            "please enter amount of MB used:  24\n",
            "the total amount of MB available:  54\n"
          ]
        },
        {
          "output_type": "execute_result",
          "data": {
            "text/plain": [
              "int"
            ]
          },
          "metadata": {},
          "execution_count": 13
        }
      ],
      "source": [
        "monthly_MB= int(input(\"enter the monthly megabyte used: \"))\n",
        "number_month=int(input(\"please enter the number of month: \"))\n",
        "\n",
        "total= monthly_MB* (number_month+1)\n",
        "for i in range(number_month):\n",
        "  MB_used=int(input(\"please enter amount of MB used:  \"))\n",
        "  total= total- MB_used\n",
        "  print(\"the total amount of MB available: \" ,total)\n",
        "\n",
        "type(monthly_MB)\n"
      ]
    }
  ]
}