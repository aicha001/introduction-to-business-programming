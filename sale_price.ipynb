{
  "nbformat": 4,
  "nbformat_minor": 0,
  "metadata": {
    "colab": {
      "name": "sale_price.ipynb",
      "provenance": [],
      "include_colab_link": true
    },
    "kernelspec": {
      "name": "python3",
      "display_name": "Python 3"
    },
    "language_info": {
      "name": "python"
    }
  },
  "cells": [
    {
      "cell_type": "markdown",
      "metadata": {
        "id": "view-in-github",
        "colab_type": "text"
      },
      "source": [
        "<a href=\"https://colab.research.google.com/github/aicha001/introduction-to-business-programming/blob/main/sale_price.ipynb\" target=\"_parent\"><img src=\"https://colab.research.google.com/assets/colab-badge.svg\" alt=\"Open In Colab\"/></a>"
      ]
    },
    {
      "cell_type": "markdown",
      "metadata": {
        "id": "cgTeiXOtSPjH"
      },
      "source": [
        "# Sales Price\n",
        "\n",
        "A local department store needs to develop a program that will computer the total price (including goods and services tax) of the item on sale when given an item's original price and discount percentage.\n",
        "\n",
        "## Tasks\n",
        "* Save to Github\n",
        "* Design Algorithm\n",
        "* Write and test the program in Python"
      ]
    },
    {
      "cell_type": "code",
      "metadata": {
        "id": "pPIN2ZcrSqdw"
      },
      "source": [
        "def calculate_totalprice(originalprice, discount, tax):\n",
        "    discountedprice= originalprice- (originalprice*discount)\n",
        "    taxAmount= tax*discountedprice\n",
        "    totalprice= discountedprice + taxAmount\n",
        "    \n",
        "    print('original price is: ', originalprice)\n",
        "    print(\"discounted price is: \", discountedprice)   \n",
        "    print(\"tax is : \",taxAmount)\n",
        "    print(\"totalprice is: \", totalprice)\n",
        "\n",
        "calculate_totalprice(40,0.30,0.07)\n"
      ],
      "execution_count": null,
      "outputs": []
    }
  ]
}