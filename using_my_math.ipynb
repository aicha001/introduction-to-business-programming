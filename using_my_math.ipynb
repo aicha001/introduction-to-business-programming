{
  "nbformat": 4,
  "nbformat_minor": 0,
  "metadata": {
    "colab": {
      "name": "using_my_math.ipynb",
      "provenance": [],
      "toc_visible": true,
      "include_colab_link": true
    },
    "kernelspec": {
      "name": "python3",
      "display_name": "Python 3"
    },
    "language_info": {
      "name": "python"
    }
  },
  "cells": [
    {
      "cell_type": "markdown",
      "metadata": {
        "id": "view-in-github",
        "colab_type": "text"
      },
      "source": [
        "<a href=\"https://colab.research.google.com/github/aicha001/introduction-to-business-programming/blob/main/using_my_math.ipynb\" target=\"_parent\"><img src=\"https://colab.research.google.com/assets/colab-badge.svg\" alt=\"Open In Colab\"/></a>"
      ]
    },
    {
      "cell_type": "markdown",
      "source": [
        "# Test Module: my_math.ipynb\n",
        "\n",
        "In this notebook, write some code to test the functions in *my_math.ipynb* by importing the file as python module. *my_math.ipynb* has some basic arithmetic functions in it.\n",
        "\n",
        "We will try importing as a python script and as a notebook.\n",
        "\n",
        "## Task 0 - Import this notebook to GitHub\n",
        "Save the notebook to your local GitHub repository.\n",
        "\n",
        "## Task 1 - Import as a Python script\n",
        "To do this you will need to:\n",
        "* open my_math.ipynb from the ISYS2001 Worksheets repository\n",
        "* download/save as my_math.py\n",
        "* from this notebook upload my_math.py.  This will put it in the same folder as this notebook.\n",
        "* Import the my_math module\n",
        "\n",
        "    import my_math\n",
        "* write some code to test the functions in my_math module"
      ],
      "metadata": {
        "id": "pM6Ipzg-fJzT"
      }
    },
    {
      "cell_type": "code",
      "execution_count": 2,
      "metadata": {
        "id": "vc2SBxd8fDyE",
        "outputId": "ce65ffb3-4041-43cb-8821-999a1a7af9c6",
        "colab": {
          "base_uri": "https://localhost:8080/"
        }
      },
      "outputs": [
        {
          "output_type": "execute_result",
          "data": {
            "text/plain": [
              "7"
            ]
          },
          "metadata": {},
          "execution_count": 2
        }
      ],
      "source": [
        "import my_math\n",
        "my_math.add(3,4)\n"
      ]
    },
    {
      "cell_type": "code",
      "source": [
        "my_math.add(3,10)"
      ],
      "metadata": {
        "id": "5M-OBTeS1BvA",
        "outputId": "fcc7fef3-f426-48b8-8401-c094c431aa2b",
        "colab": {
          "base_uri": "https://localhost:8080/"
        }
      },
      "execution_count": 3,
      "outputs": [
        {
          "output_type": "execute_result",
          "data": {
            "text/plain": [
              "13"
            ]
          },
          "metadata": {},
          "execution_count": 3
        }
      ]
    },
    {
      "cell_type": "code",
      "source": [
        "my_math.divide(10,2)"
      ],
      "metadata": {
        "id": "JCoRYajJ1H5D",
        "outputId": "1bc5f5cb-5cdd-4854-e955-287c1ba1faa2",
        "colab": {
          "base_uri": "https://localhost:8080/"
        }
      },
      "execution_count": 4,
      "outputs": [
        {
          "output_type": "execute_result",
          "data": {
            "text/plain": [
              "5.0"
            ]
          },
          "metadata": {},
          "execution_count": 4
        }
      ]
    },
    {
      "cell_type": "code",
      "source": [
        "my_math.subtract(12,4)"
      ],
      "metadata": {
        "id": "73XfYQXR1iCS",
        "outputId": "4766223c-d592-454f-e93c-1821ce9ce52f",
        "colab": {
          "base_uri": "https://localhost:8080/"
        }
      },
      "execution_count": 5,
      "outputs": [
        {
          "output_type": "execute_result",
          "data": {
            "text/plain": [
              "8"
            ]
          },
          "metadata": {},
          "execution_count": 5
        }
      ]
    },
    {
      "cell_type": "code",
      "source": [
        "my_math.multiply(3,4)"
      ],
      "metadata": {
        "id": "X65Xzo0k1m5z",
        "outputId": "db0226d5-e24e-48d9-dac6-a4e35e2a3da7",
        "colab": {
          "base_uri": "https://localhost:8080/"
        }
      },
      "execution_count": 6,
      "outputs": [
        {
          "output_type": "execute_result",
          "data": {
            "text/plain": [
              "12"
            ]
          },
          "metadata": {},
          "execution_count": 6
        }
      ]
    },
    {
      "cell_type": "code",
      "source": [
        "help(my_math)"
      ],
      "metadata": {
        "id": "z0kNvHaq2DPW",
        "outputId": "bab6bf5d-2887-4195-f972-e57bcdfc7e00",
        "colab": {
          "base_uri": "https://localhost:8080/"
        }
      },
      "execution_count": 7,
      "outputs": [
        {
          "output_type": "stream",
          "name": "stdout",
          "text": [
            "Help on module my_math:\n",
            "\n",
            "NAME\n",
            "    my_math - my_math.ipynb\n",
            "\n",
            "DESCRIPTION\n",
            "    Automatically generated by Colaboratory.\n",
            "    \n",
            "    Original file is located at\n",
            "        https://colab.research.google.com/github/aicha001/introduction-to-business-programming/blob/main/my_math.ipynb\n",
            "    \n",
            "    Any Python file you create is a module that you can import. Here is a simple module that has some basic arithmetic functions in it. \n",
            "    \n",
            "    This code is very naive. You have no error handling at all, for example. What that means is that you could divide by zero and cause an exception to be thrown. You could also pass incompatible types to these functions, like a string and an integer -- that would cause a different kind of exception to be raised.\n",
            "    \n",
            "    However, for learning purposes, this code is adequate.\n",
            "\n",
            "FUNCTIONS\n",
            "    add(x, y)\n",
            "        Add two numbers\n",
            "    \n",
            "    divide(x, y)\n",
            "        Divide first by second number\n",
            "    \n",
            "    multiply(x, y)\n",
            "        Multiple two numbers\n",
            "    \n",
            "    subtract(x, y)\n",
            "        Subtract two numbers\n",
            "\n",
            "FILE\n",
            "    /content/my_math.py\n",
            "\n",
            "\n"
          ]
        }
      ]
    },
    {
      "cell_type": "markdown",
      "source": [
        "## Task 2 - Import as a Notebook\n",
        "\n",
        "To do this you will need:\n",
        "* intall margo loader\n",
        "* open my_math.ipynb from the ISYS2001 Worksheets repository\n",
        "* download as a notebook my_math.ipynb\n",
        "* from this notebook upload my_math.ipynb.  This will put it in the same folder as this notebook.\n",
        "* import the notebook\n",
        "    import margo_loader\n",
        "    import my_math\n",
        "\n",
        "* Wrtie some code to test the functions in my_math notebook \n"
      ],
      "metadata": {
        "id": "3mChsfz3hbv2"
      }
    },
    {
      "cell_type": "code",
      "source": [
        ""
      ],
      "metadata": {
        "id": "QOOQhfvIiOss"
      },
      "execution_count": null,
      "outputs": []
    }
  ]
}